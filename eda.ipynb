{
 "cells": [
  {
   "cell_type": "markdown",
   "id": "710c932d",
   "metadata": {},
   "source": [
    "# AIAP 20 - Technical Assessment\n",
    "### Task 1 - Exploratory Data Analysis (EDA)"
   ]
  },
  {
   "cell_type": "markdown",
   "id": "f0db190e",
   "metadata": {},
   "source": [
    "## Step 1: Import Libraries"
   ]
  },
  {
   "cell_type": "code",
   "execution_count": null,
   "id": "fe2920ac",
   "metadata": {},
   "outputs": [],
   "source": [
    "import sqlite3\n",
    "import pandas as pd\n"
   ]
  },
  {
   "cell_type": "markdown",
   "id": "f0e519c7",
   "metadata": {},
   "source": [
    "## Step 2: Import Database and convert to DataFrame"
   ]
  },
  {
   "cell_type": "code",
   "execution_count": 28,
   "id": "5bfb7de6",
   "metadata": {},
   "outputs": [],
   "source": [
    "con = sqlite3.connect(\"data/bmarket.db\") # connect to SQLite database\n",
    "curr = con.cursor()"
   ]
  },
  {
   "cell_type": "markdown",
   "id": "d4e543c9",
   "metadata": {},
   "source": [
    "Reference: docs.python.org/3/library/sqlite3.html"
   ]
  },
  {
   "cell_type": "markdown",
   "id": "26ab94c0",
   "metadata": {},
   "source": [
    "### Get The Table Name"
   ]
  },
  {
   "cell_type": "code",
   "execution_count": 29,
   "id": "d6d7f381",
   "metadata": {},
   "outputs": [
    {
     "name": "stdout",
     "output_type": "stream",
     "text": [
      "[('bank_marketing',)]\n",
      "bank_marketing\n"
     ]
    }
   ],
   "source": [
    "curr.execute(\"SELECT name FROM sqlite_master WHERE type = 'table';\")\n",
    "tables = curr.fetchall()\n",
    "\n",
    "print (tables) # check how many tables are there in the db.\n",
    "\n",
    "def table_name(): # function used to assign table name\n",
    "    for table in tables:\n",
    "        return table[0]\n",
    "\n",
    "print(table_name())\n"
   ]
  },
  {
   "cell_type": "markdown",
   "id": "ab3e719c",
   "metadata": {},
   "source": [
    "### Convert .db to DataFrame(pd)"
   ]
  },
  {
   "cell_type": "code",
   "execution_count": 30,
   "id": "8f13b968",
   "metadata": {},
   "outputs": [],
   "source": [
    "dataset_raw = pd.read_sql_query(f\"SELECT * FROM {table_name()}\", con)"
   ]
  },
  {
   "cell_type": "markdown",
   "id": "49c6aea8",
   "metadata": {},
   "source": [
    "## Step 3: Dataset Overview"
   ]
  },
  {
   "cell_type": "markdown",
   "id": "ad1f4e3e",
   "metadata": {},
   "source": [
    "### Check basic info"
   ]
  },
  {
   "cell_type": "code",
   "execution_count": 31,
   "id": "c8459a95",
   "metadata": {},
   "outputs": [
    {
     "data": {
      "text/plain": [
       "(41188, 12)"
      ]
     },
     "execution_count": 31,
     "metadata": {},
     "output_type": "execute_result"
    }
   ],
   "source": [
    "# Check the number of Rows and Columns\n",
    "dataset_raw.shape"
   ]
  },
  {
   "cell_type": "code",
   "execution_count": 32,
   "id": "d2679604",
   "metadata": {},
   "outputs": [
    {
     "data": {
      "text/html": [
       "<div>\n",
       "<style scoped>\n",
       "    .dataframe tbody tr th:only-of-type {\n",
       "        vertical-align: middle;\n",
       "    }\n",
       "\n",
       "    .dataframe tbody tr th {\n",
       "        vertical-align: top;\n",
       "    }\n",
       "\n",
       "    .dataframe thead th {\n",
       "        text-align: right;\n",
       "    }\n",
       "</style>\n",
       "<table border=\"1\" class=\"dataframe\">\n",
       "  <thead>\n",
       "    <tr style=\"text-align: right;\">\n",
       "      <th></th>\n",
       "      <th>Client ID</th>\n",
       "      <th>Age</th>\n",
       "      <th>Occupation</th>\n",
       "      <th>Marital Status</th>\n",
       "      <th>Education Level</th>\n",
       "      <th>Credit Default</th>\n",
       "      <th>Housing Loan</th>\n",
       "      <th>Personal Loan</th>\n",
       "      <th>Contact Method</th>\n",
       "      <th>Campaign Calls</th>\n",
       "      <th>Previous Contact Days</th>\n",
       "      <th>Subscription Status</th>\n",
       "    </tr>\n",
       "  </thead>\n",
       "  <tbody>\n",
       "    <tr>\n",
       "      <th>0</th>\n",
       "      <td>32885</td>\n",
       "      <td>57 years</td>\n",
       "      <td>technician</td>\n",
       "      <td>married</td>\n",
       "      <td>high.school</td>\n",
       "      <td>no</td>\n",
       "      <td>no</td>\n",
       "      <td>yes</td>\n",
       "      <td>Cell</td>\n",
       "      <td>1</td>\n",
       "      <td>999</td>\n",
       "      <td>no</td>\n",
       "    </tr>\n",
       "    <tr>\n",
       "      <th>1</th>\n",
       "      <td>3170</td>\n",
       "      <td>55 years</td>\n",
       "      <td>unknown</td>\n",
       "      <td>married</td>\n",
       "      <td>unknown</td>\n",
       "      <td>unknown</td>\n",
       "      <td>yes</td>\n",
       "      <td>no</td>\n",
       "      <td>telephone</td>\n",
       "      <td>2</td>\n",
       "      <td>999</td>\n",
       "      <td>no</td>\n",
       "    </tr>\n",
       "    <tr>\n",
       "      <th>2</th>\n",
       "      <td>32207</td>\n",
       "      <td>33 years</td>\n",
       "      <td>blue-collar</td>\n",
       "      <td>married</td>\n",
       "      <td>basic.9y</td>\n",
       "      <td>no</td>\n",
       "      <td>no</td>\n",
       "      <td>no</td>\n",
       "      <td>cellular</td>\n",
       "      <td>1</td>\n",
       "      <td>999</td>\n",
       "      <td>no</td>\n",
       "    </tr>\n",
       "    <tr>\n",
       "      <th>3</th>\n",
       "      <td>9404</td>\n",
       "      <td>36 years</td>\n",
       "      <td>admin.</td>\n",
       "      <td>married</td>\n",
       "      <td>high.school</td>\n",
       "      <td>no</td>\n",
       "      <td>no</td>\n",
       "      <td>no</td>\n",
       "      <td>Telephone</td>\n",
       "      <td>4</td>\n",
       "      <td>999</td>\n",
       "      <td>no</td>\n",
       "    </tr>\n",
       "    <tr>\n",
       "      <th>4</th>\n",
       "      <td>14021</td>\n",
       "      <td>27 years</td>\n",
       "      <td>housemaid</td>\n",
       "      <td>married</td>\n",
       "      <td>high.school</td>\n",
       "      <td>no</td>\n",
       "      <td>None</td>\n",
       "      <td>no</td>\n",
       "      <td>Cell</td>\n",
       "      <td>2</td>\n",
       "      <td>999</td>\n",
       "      <td>no</td>\n",
       "    </tr>\n",
       "  </tbody>\n",
       "</table>\n",
       "</div>"
      ],
      "text/plain": [
       "   Client ID       Age   Occupation Marital Status Education Level  \\\n",
       "0      32885  57 years   technician        married     high.school   \n",
       "1       3170  55 years      unknown        married         unknown   \n",
       "2      32207  33 years  blue-collar        married        basic.9y   \n",
       "3       9404  36 years       admin.        married     high.school   \n",
       "4      14021  27 years    housemaid        married     high.school   \n",
       "\n",
       "  Credit Default Housing Loan Personal Loan Contact Method  Campaign Calls  \\\n",
       "0             no           no           yes           Cell               1   \n",
       "1        unknown          yes            no      telephone               2   \n",
       "2             no           no            no       cellular               1   \n",
       "3             no           no            no      Telephone               4   \n",
       "4             no         None            no           Cell               2   \n",
       "\n",
       "   Previous Contact Days Subscription Status  \n",
       "0                    999                  no  \n",
       "1                    999                  no  \n",
       "2                    999                  no  \n",
       "3                    999                  no  \n",
       "4                    999                  no  "
      ]
     },
     "execution_count": 32,
     "metadata": {},
     "output_type": "execute_result"
    }
   ],
   "source": [
    "# Check the Header\n",
    "dataset_raw.head()"
   ]
  },
  {
   "cell_type": "code",
   "execution_count": 33,
   "id": "af33c080",
   "metadata": {},
   "outputs": [
    {
     "name": "stdout",
     "output_type": "stream",
     "text": [
      "<class 'pandas.core.frame.DataFrame'>\n",
      "RangeIndex: 41188 entries, 0 to 41187\n",
      "Data columns (total 12 columns):\n",
      " #   Column                 Non-Null Count  Dtype \n",
      "---  ------                 --------------  ----- \n",
      " 0   Client ID              41188 non-null  int64 \n",
      " 1   Age                    41188 non-null  object\n",
      " 2   Occupation             41188 non-null  object\n",
      " 3   Marital Status         41188 non-null  object\n",
      " 4   Education Level        41188 non-null  object\n",
      " 5   Credit Default         41188 non-null  object\n",
      " 6   Housing Loan           16399 non-null  object\n",
      " 7   Personal Loan          37042 non-null  object\n",
      " 8   Contact Method         41188 non-null  object\n",
      " 9   Campaign Calls         41188 non-null  int64 \n",
      " 10  Previous Contact Days  41188 non-null  int64 \n",
      " 11  Subscription Status    41188 non-null  object\n",
      "dtypes: int64(3), object(9)\n",
      "memory usage: 3.8+ MB\n"
     ]
    }
   ],
   "source": [
    "# Check basic info of the dataset\n",
    "dataset_raw.info()"
   ]
  },
  {
   "cell_type": "code",
   "execution_count": 34,
   "id": "e3be3cee",
   "metadata": {},
   "outputs": [
    {
     "data": {
      "text/plain": [
       "Client ID                    0\n",
       "Age                          0\n",
       "Occupation                   0\n",
       "Marital Status               0\n",
       "Education Level              0\n",
       "Credit Default               0\n",
       "Housing Loan             24789\n",
       "Personal Loan             4146\n",
       "Contact Method               0\n",
       "Campaign Calls               0\n",
       "Previous Contact Days        0\n",
       "Subscription Status          0\n",
       "dtype: int64"
      ]
     },
     "execution_count": 34,
     "metadata": {},
     "output_type": "execute_result"
    }
   ],
   "source": [
    "\n",
    "# Checking for missing values\n",
    "dataset_raw.isnull().sum()"
   ]
  },
  {
   "cell_type": "code",
   "execution_count": 35,
   "id": "f6a3b4cf",
   "metadata": {},
   "outputs": [
    {
     "data": {
      "text/plain": [
       "array(['no', 'yes', None, 'unknown'], dtype=object)"
      ]
     },
     "execution_count": 35,
     "metadata": {},
     "output_type": "execute_result"
    }
   ],
   "source": [
    "dataset_raw[\"Housing Loan\"].unique()"
   ]
  },
  {
   "cell_type": "code",
   "execution_count": 36,
   "id": "ba47ef3c",
   "metadata": {},
   "outputs": [
    {
     "data": {
      "text/plain": [
       "array(['no', 'yes', 'unknown'], dtype=object)"
      ]
     },
     "execution_count": 36,
     "metadata": {},
     "output_type": "execute_result"
    }
   ],
   "source": [
    "dataset_raw[\"Housing Loan\"].dropna().unique()"
   ]
  },
  {
   "cell_type": "code",
   "execution_count": 37,
   "id": "8787a409",
   "metadata": {},
   "outputs": [
    {
     "data": {
      "text/plain": [
       "array(['yes', 'no', None, 'unknown'], dtype=object)"
      ]
     },
     "execution_count": 37,
     "metadata": {},
     "output_type": "execute_result"
    }
   ],
   "source": [
    "dataset_raw[\"Personal Loan\"].unique()"
   ]
  },
  {
   "cell_type": "code",
   "execution_count": 38,
   "id": "fec87f16",
   "metadata": {},
   "outputs": [
    {
     "data": {
      "text/plain": [
       "array(['no', 'yes', 'unknown'], dtype=object)"
      ]
     },
     "execution_count": 38,
     "metadata": {},
     "output_type": "execute_result"
    }
   ],
   "source": [
    "dataset_raw[\"Housing Loan\"].dropna().unique()"
   ]
  },
  {
   "cell_type": "code",
   "execution_count": 39,
   "id": "e02f27bf",
   "metadata": {},
   "outputs": [
    {
     "data": {
      "text/html": [
       "<div>\n",
       "<style scoped>\n",
       "    .dataframe tbody tr th:only-of-type {\n",
       "        vertical-align: middle;\n",
       "    }\n",
       "\n",
       "    .dataframe tbody tr th {\n",
       "        vertical-align: top;\n",
       "    }\n",
       "\n",
       "    .dataframe thead th {\n",
       "        text-align: right;\n",
       "    }\n",
       "</style>\n",
       "<table border=\"1\" class=\"dataframe\">\n",
       "  <thead>\n",
       "    <tr style=\"text-align: right;\">\n",
       "      <th></th>\n",
       "      <th>Client ID</th>\n",
       "      <th>Campaign Calls</th>\n",
       "      <th>Previous Contact Days</th>\n",
       "    </tr>\n",
       "  </thead>\n",
       "  <tbody>\n",
       "    <tr>\n",
       "      <th>count</th>\n",
       "      <td>41188.00000</td>\n",
       "      <td>41188.000000</td>\n",
       "      <td>41188.000000</td>\n",
       "    </tr>\n",
       "    <tr>\n",
       "      <th>mean</th>\n",
       "      <td>20594.50000</td>\n",
       "      <td>2.051374</td>\n",
       "      <td>962.475454</td>\n",
       "    </tr>\n",
       "    <tr>\n",
       "      <th>std</th>\n",
       "      <td>11890.09578</td>\n",
       "      <td>3.171345</td>\n",
       "      <td>186.910907</td>\n",
       "    </tr>\n",
       "    <tr>\n",
       "      <th>min</th>\n",
       "      <td>1.00000</td>\n",
       "      <td>-41.000000</td>\n",
       "      <td>0.000000</td>\n",
       "    </tr>\n",
       "    <tr>\n",
       "      <th>25%</th>\n",
       "      <td>10297.75000</td>\n",
       "      <td>1.000000</td>\n",
       "      <td>999.000000</td>\n",
       "    </tr>\n",
       "    <tr>\n",
       "      <th>50%</th>\n",
       "      <td>20594.50000</td>\n",
       "      <td>2.000000</td>\n",
       "      <td>999.000000</td>\n",
       "    </tr>\n",
       "    <tr>\n",
       "      <th>75%</th>\n",
       "      <td>30891.25000</td>\n",
       "      <td>3.000000</td>\n",
       "      <td>999.000000</td>\n",
       "    </tr>\n",
       "    <tr>\n",
       "      <th>max</th>\n",
       "      <td>41188.00000</td>\n",
       "      <td>56.000000</td>\n",
       "      <td>999.000000</td>\n",
       "    </tr>\n",
       "  </tbody>\n",
       "</table>\n",
       "</div>"
      ],
      "text/plain": [
       "         Client ID  Campaign Calls  Previous Contact Days\n",
       "count  41188.00000    41188.000000           41188.000000\n",
       "mean   20594.50000        2.051374             962.475454\n",
       "std    11890.09578        3.171345             186.910907\n",
       "min        1.00000      -41.000000               0.000000\n",
       "25%    10297.75000        1.000000             999.000000\n",
       "50%    20594.50000        2.000000             999.000000\n",
       "75%    30891.25000        3.000000             999.000000\n",
       "max    41188.00000       56.000000             999.000000"
      ]
     },
     "execution_count": 39,
     "metadata": {},
     "output_type": "execute_result"
    }
   ],
   "source": [
    "\n",
    "# Describe the dataset for numerical features\n",
    "dataset_raw.describe()"
   ]
  },
  {
   "cell_type": "code",
   "execution_count": 50,
   "id": "13dc9775",
   "metadata": {},
   "outputs": [
    {
     "data": {
      "text/html": [
       "<div>\n",
       "<style scoped>\n",
       "    .dataframe tbody tr th:only-of-type {\n",
       "        vertical-align: middle;\n",
       "    }\n",
       "\n",
       "    .dataframe tbody tr th {\n",
       "        vertical-align: top;\n",
       "    }\n",
       "\n",
       "    .dataframe thead th {\n",
       "        text-align: right;\n",
       "    }\n",
       "</style>\n",
       "<table border=\"1\" class=\"dataframe\">\n",
       "  <thead>\n",
       "    <tr style=\"text-align: right;\">\n",
       "      <th></th>\n",
       "      <th>Client ID</th>\n",
       "      <th>Campaign Calls</th>\n",
       "      <th>Previous Contact Days</th>\n",
       "    </tr>\n",
       "  </thead>\n",
       "  <tbody>\n",
       "    <tr>\n",
       "      <th>count</th>\n",
       "      <td>1515.000000</td>\n",
       "      <td>1515.000000</td>\n",
       "      <td>1515.000000</td>\n",
       "    </tr>\n",
       "    <tr>\n",
       "      <th>mean</th>\n",
       "      <td>37871.124092</td>\n",
       "      <td>1.411881</td>\n",
       "      <td>6.014521</td>\n",
       "    </tr>\n",
       "    <tr>\n",
       "      <th>std</th>\n",
       "      <td>3477.361721</td>\n",
       "      <td>1.694070</td>\n",
       "      <td>3.824906</td>\n",
       "    </tr>\n",
       "    <tr>\n",
       "      <th>min</th>\n",
       "      <td>24109.000000</td>\n",
       "      <td>-7.000000</td>\n",
       "      <td>0.000000</td>\n",
       "    </tr>\n",
       "    <tr>\n",
       "      <th>25%</th>\n",
       "      <td>37281.000000</td>\n",
       "      <td>1.000000</td>\n",
       "      <td>3.000000</td>\n",
       "    </tr>\n",
       "    <tr>\n",
       "      <th>50%</th>\n",
       "      <td>39009.000000</td>\n",
       "      <td>1.000000</td>\n",
       "      <td>6.000000</td>\n",
       "    </tr>\n",
       "    <tr>\n",
       "      <th>75%</th>\n",
       "      <td>40163.000000</td>\n",
       "      <td>2.000000</td>\n",
       "      <td>7.000000</td>\n",
       "    </tr>\n",
       "    <tr>\n",
       "      <th>max</th>\n",
       "      <td>41183.000000</td>\n",
       "      <td>13.000000</td>\n",
       "      <td>27.000000</td>\n",
       "    </tr>\n",
       "  </tbody>\n",
       "</table>\n",
       "</div>"
      ],
      "text/plain": [
       "          Client ID  Campaign Calls  Previous Contact Days\n",
       "count   1515.000000     1515.000000            1515.000000\n",
       "mean   37871.124092        1.411881               6.014521\n",
       "std     3477.361721        1.694070               3.824906\n",
       "min    24109.000000       -7.000000               0.000000\n",
       "25%    37281.000000        1.000000               3.000000\n",
       "50%    39009.000000        1.000000               6.000000\n",
       "75%    40163.000000        2.000000               7.000000\n",
       "max    41183.000000       13.000000              27.000000"
      ]
     },
     "execution_count": 50,
     "metadata": {},
     "output_type": "execute_result"
    }
   ],
   "source": [
    "filtered_data = dataset_raw[dataset_raw[\"Previous Contact Days\"] != 999]\n",
    "filtered_data.describe()\n",
    "# filtered_data[\"Previous Contact Days\"].describe()"
   ]
  },
  {
   "cell_type": "code",
   "execution_count": 40,
   "id": "a72147ee",
   "metadata": {},
   "outputs": [
    {
     "data": {
      "text/plain": [
       "0"
      ]
     },
     "execution_count": 40,
     "metadata": {},
     "output_type": "execute_result"
    }
   ],
   "source": [
    "# Check for duplicate rows\n",
    "int(dataset_raw.duplicated().sum())"
   ]
  }
 ],
 "metadata": {
  "kernelspec": {
   "display_name": "Python 3",
   "language": "python",
   "name": "python3"
  },
  "language_info": {
   "codemirror_mode": {
    "name": "ipython",
    "version": 3
   },
   "file_extension": ".py",
   "mimetype": "text/x-python",
   "name": "python",
   "nbconvert_exporter": "python",
   "pygments_lexer": "ipython3",
   "version": "3.9.21"
  }
 },
 "nbformat": 4,
 "nbformat_minor": 5
}
